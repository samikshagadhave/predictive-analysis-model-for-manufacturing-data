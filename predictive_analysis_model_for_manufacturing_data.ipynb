{
  "nbformat": 4,
  "nbformat_minor": 0,
  "metadata": {
    "colab": {
      "provenance": [],
      "authorship_tag": "ABX9TyMkJJWkEecoBAVUCNVEkHie",
      "include_colab_link": true
    },
    "kernelspec": {
      "name": "python3",
      "display_name": "Python 3"
    },
    "language_info": {
      "name": "python"
    }
  },
  "cells": [
    {
      "cell_type": "markdown",
      "metadata": {
        "id": "view-in-github",
        "colab_type": "text"
      },
      "source": [
        "<a href=\"https://colab.research.google.com/github/samikshagadhave/predictive-analysis-model-for-manufacturing-data/blob/main/predictive_analysis_model_for_manufacturing_data.ipynb\" target=\"_parent\"><img src=\"https://colab.research.google.com/assets/colab-badge.svg\" alt=\"Open In Colab\"/></a>"
      ]
    },
    {
      "cell_type": "code",
      "source": [
        "import pandas as pd\n",
        "import numpy as np\n",
        "\n",
        "# Set random seed for reproducibility\n",
        "np.random.seed(42)\n",
        "\n",
        "# Define parameters\n",
        "num_records = 1000  # Number of rows\n",
        "machine_ids = [f\"Machine_{i}\" for i in range(1, 11)]  # 10 machines\n",
        "temperature_range = (60, 120)  # Temperature in degrees Celsius\n",
        "runtime_range = (1, 24)  # Runtime in hours\n",
        "\n",
        "# Generate data\n",
        "data = {\n",
        "    \"Machine_ID\": np.random.choice(machine_ids, size=num_records),\n",
        "    \"Temperature\": np.random.uniform(*temperature_range, size=num_records).round(2),\n",
        "    \"Run_Time\": np.random.uniform(*runtime_range, size=num_records).round(1),\n",
        "    \"Downtime_Flag\": np.random.choice([0, 1], size=num_records, p=[0.8, 0.2]),  # 20% downtime\n",
        "}\n",
        "\n",
        "# Create DataFrame\n",
        "df = pd.DataFrame(data)\n",
        "\n",
        "# Display the first few rows\n",
        "print(df.head())\n",
        "\n",
        "# Save to CSV (optional)\n",
        "df.to_csv(\"synthetic_machine_data.csv\", index=False)\n"
      ],
      "metadata": {
        "colab": {
          "base_uri": "https://localhost:8080/"
        },
        "id": "ic7X2R8H0nZ9",
        "outputId": "9ae60f08-d835-4d03-a499-67c940ebddf8"
      },
      "execution_count": null,
      "outputs": [
        {
          "output_type": "stream",
          "name": "stdout",
          "text": [
            "  Machine_ID  Temperature  Run_Time  Downtime_Flag\n",
            "0  Machine_7        75.36       2.1              0\n",
            "1  Machine_4       103.57       1.9              1\n",
            "2  Machine_8        95.58      18.2              0\n",
            "3  Machine_5        66.13      16.2              0\n",
            "4  Machine_7       115.13      19.4              0\n"
          ]
        }
      ]
    },
    {
      "cell_type": "code",
      "source": [
        "!pip install flask pandas scikit-learn joblib"
      ],
      "metadata": {
        "colab": {
          "base_uri": "https://localhost:8080/"
        },
        "id": "_4TAv24TeITj",
        "outputId": "0bbdc65f-18b4-46af-ab34-985ace19dbf8"
      },
      "execution_count": null,
      "outputs": [
        {
          "output_type": "stream",
          "name": "stdout",
          "text": [
            "Requirement already satisfied: flask in /usr/local/lib/python3.11/dist-packages (3.1.0)\n",
            "Requirement already satisfied: pandas in /usr/local/lib/python3.11/dist-packages (2.2.2)\n",
            "Requirement already satisfied: scikit-learn in /usr/local/lib/python3.11/dist-packages (1.6.0)\n",
            "Requirement already satisfied: joblib in /usr/local/lib/python3.11/dist-packages (1.4.2)\n",
            "Requirement already satisfied: Werkzeug>=3.1 in /usr/local/lib/python3.11/dist-packages (from flask) (3.1.3)\n",
            "Requirement already satisfied: Jinja2>=3.1.2 in /usr/local/lib/python3.11/dist-packages (from flask) (3.1.5)\n",
            "Requirement already satisfied: itsdangerous>=2.2 in /usr/local/lib/python3.11/dist-packages (from flask) (2.2.0)\n",
            "Requirement already satisfied: click>=8.1.3 in /usr/local/lib/python3.11/dist-packages (from flask) (8.1.8)\n",
            "Requirement already satisfied: blinker>=1.9 in /usr/local/lib/python3.11/dist-packages (from flask) (1.9.0)\n",
            "Requirement already satisfied: numpy>=1.23.2 in /usr/local/lib/python3.11/dist-packages (from pandas) (1.26.4)\n",
            "Requirement already satisfied: python-dateutil>=2.8.2 in /usr/local/lib/python3.11/dist-packages (from pandas) (2.8.2)\n",
            "Requirement already satisfied: pytz>=2020.1 in /usr/local/lib/python3.11/dist-packages (from pandas) (2024.2)\n",
            "Requirement already satisfied: tzdata>=2022.7 in /usr/local/lib/python3.11/dist-packages (from pandas) (2024.2)\n",
            "Requirement already satisfied: scipy>=1.6.0 in /usr/local/lib/python3.11/dist-packages (from scikit-learn) (1.13.1)\n",
            "Requirement already satisfied: threadpoolctl>=3.1.0 in /usr/local/lib/python3.11/dist-packages (from scikit-learn) (3.5.0)\n",
            "Requirement already satisfied: MarkupSafe>=2.0 in /usr/local/lib/python3.11/dist-packages (from Jinja2>=3.1.2->flask) (3.0.2)\n",
            "Requirement already satisfied: six>=1.5 in /usr/local/lib/python3.11/dist-packages (from python-dateutil>=2.8.2->pandas) (1.17.0)\n"
          ]
        }
      ]
    },
    {
      "cell_type": "code",
      "source": [
        "from google.colab.output import eval_js\n",
        "print(eval_js(\"google.colab.kernel.proxyPort(5000)\"))"
      ],
      "metadata": {
        "colab": {
          "base_uri": "https://localhost:8080/",
          "height": 35
        },
        "id": "OFF0CYU0xZDU",
        "outputId": "227362d1-c34e-4976-d5b3-2e7bba759451"
      },
      "execution_count": null,
      "outputs": [
        {
          "output_type": "stream",
          "name": "stdout",
          "text": [
            "https://lnoi0qarn48-496ff2e9c6d22116-5000-colab.googleusercontent.com/\n"
          ]
        }
      ]
    },
    {
      "cell_type": "code",
      "source": [
        "import pandas as pd\n",
        "import numpy as np\n",
        "from flask import Flask, request, jsonify\n",
        "#from flask_ngrok import run_with_ngrok\n",
        "from sklearn.model_selection import train_test_split\n",
        "from sklearn.linear_model import LogisticRegression\n",
        "from sklearn.metrics import accuracy_score, f1_score\n",
        "import joblib\n",
        "import os\n",
        "\n",
        "# Generate synthetic dataset\n",
        "def generate_data(num_records=1000):\n",
        "    np.random.seed(42)\n",
        "    machine_ids = [f\"Machine_{i}\" for i in range(1, 11)]\n",
        "    temperature_range = (60, 120)\n",
        "    runtime_range = (1, 24)\n",
        "    data = {\n",
        "        \"Machine_ID\": np.random.choice(machine_ids, size=num_records),\n",
        "        \"Temperature\": np.random.uniform(*temperature_range, size=num_records).round(2),\n",
        "        \"Run_Time\": np.random.uniform(*runtime_range, size=num_records).round(1),\n",
        "        \"Downtime_Flag\": np.random.choice([0, 1], size=num_records, p=[0.8, 0.2]),\n",
        "    }\n",
        "    return pd.DataFrame(data)\n",
        "\n",
        "# Initialize Flask app\n",
        "app = Flask(__name__)\n",
        "#run_with_ngrok(app)\n",
        "\n",
        "# Global variables to store dataset and model\n",
        "dataset = None\n",
        "model = None\n",
        "\n",
        "# Upload endpoint\n",
        "@app.route('/upload', methods=['POST'])\n",
        "def upload_file():\n",
        "    global dataset\n",
        "    file = request.files['file']\n",
        "\n",
        "    if not file:\n",
        "        return jsonify({\"error\": \"No file provided\"}), 400\n",
        "\n",
        "    try:\n",
        "        dataset = pd.read_csv(file)\n",
        "        return jsonify({\"message\": \"File uploaded successfully\", \"columns\": list(dataset.columns)}), 200\n",
        "    except Exception as e:\n",
        "        return jsonify({\"error\": str(e)}), 400\n",
        "\n",
        "# Train endpoint\n",
        "@app.route('/train', methods=['POST'])\n",
        "def train_model():\n",
        "    global dataset, model\n",
        "\n",
        "    if dataset is None:\n",
        "        return jsonify({\"error\": \"No dataset uploaded. Use /upload to upload a dataset.\"}), 400\n",
        "\n",
        "    required_columns = {\"Temperature\", \"Run_Time\", \"Downtime_Flag\"}\n",
        "    if not required_columns.issubset(dataset.columns):\n",
        "        return jsonify({\"error\": f\"Dataset must contain the following columns: {required_columns}\"}), 400\n",
        "\n",
        "    try:\n",
        "        X = dataset[[\"Temperature\", \"Run_Time\"]]\n",
        "        y = dataset[\"Downtime_Flag\"]\n",
        "\n",
        "        X_train, X_test, y_train, y_test = train_test_split(X, y, test_size=0.2, random_state=42)\n",
        "\n",
        "        model = LogisticRegression()\n",
        "        model.fit(X_train, y_train)\n",
        "\n",
        "        y_pred = model.predict(X_test)\n",
        "        accuracy = accuracy_score(y_test, y_pred)\n",
        "        f1 = f1_score(y_test, y_pred)\n",
        "\n",
        "        joblib.dump(model, \"model.pkl\")\n",
        "\n",
        "        return jsonify({\"message\": \"Model trained successfully\", \"accuracy\": accuracy, \"f1_score\": f1}), 200\n",
        "    except Exception as e:\n",
        "        return jsonify({\"error\": str(e)}), 400\n",
        "\n",
        "# Predict endpoint\n",
        "@app.route('/predict', methods=['POST'])\n",
        "def predict():\n",
        "    global model\n",
        "\n",
        "    if model is None:\n",
        "        return jsonify({\"error\": \"No model trained. Use /train to train a model.\"}), 400\n",
        "\n",
        "    try:\n",
        "        data = request.get_json()\n",
        "        temperature = data.get(\"Temperature\")\n",
        "        run_time = data.get(\"Run_Time\")\n",
        "\n",
        "        if temperature is None or run_time is None:\n",
        "            return jsonify({\"error\": \"Temperature and Run_Time are required fields\"}), 400\n",
        "\n",
        "        input_data = np.array([[temperature, run_time]])\n",
        "        prediction = model.predict(input_data)[0]\n",
        "        confidence = max(model.predict_proba(input_data)[0])\n",
        "\n",
        "        downtime = \"Yes\" if prediction == 1 else \"No\"\n",
        "\n",
        "        return jsonify({\"Downtime\": downtime, \"Confidence\": round(confidence, 2)}), 200\n",
        "    except Exception as e:\n",
        "        return jsonify({\"error\": str(e)}), 400\n",
        "\n",
        "if __name__ == \"__main__\":\n",
        "    # Generate and save synthetic data (optional)\n",
        "    df = generate_data()\n",
        "    df.to_csv(\"synthetic_machine_data.csv\", index=False)\n",
        "    print(\"Synthetic dataset saved as 'synthetic_machine_data.csv'.\")\n",
        "    app.run()\n"
      ],
      "metadata": {
        "colab": {
          "base_uri": "https://localhost:8080/"
        },
        "outputId": "309ea72b-4c67-4d86-ea1c-e1722f0b84a1",
        "id": "PZV-Z-BHeihj"
      },
      "execution_count": null,
      "outputs": [
        {
          "output_type": "stream",
          "name": "stdout",
          "text": [
            "Synthetic dataset saved as 'synthetic_machine_data.csv'.\n",
            " * Serving Flask app '__main__'\n",
            " * Debug mode: off\n"
          ]
        },
        {
          "output_type": "stream",
          "name": "stderr",
          "text": [
            "INFO:werkzeug:\u001b[31m\u001b[1mWARNING: This is a development server. Do not use it in a production deployment. Use a production WSGI server instead.\u001b[0m\n",
            " * Running on http://127.0.0.1:5000\n",
            "INFO:werkzeug:\u001b[33mPress CTRL+C to quit\u001b[0m\n"
          ]
        }
      ]
    },
    {
      "cell_type": "code",
      "source": [],
      "metadata": {
        "id": "3UuzouW6eRJq"
      },
      "execution_count": null,
      "outputs": []
    }
  ]
}